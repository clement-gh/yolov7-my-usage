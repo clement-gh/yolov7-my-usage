{
 "cells": [
  {
   "cell_type": "code",
   "execution_count": 72,
   "metadata": {},
   "outputs": [
    {
     "name": "stdout",
     "output_type": "stream",
     "text": [
      "creating train json\n"
     ]
    },
    {
     "name": "stderr",
     "output_type": "stream",
     "text": [
      "100%|██████████| 33402/33402 [02:11<00:00, 253.17it/s]\n"
     ]
    },
    {
     "name": "stdout",
     "output_type": "stream",
     "text": [
      "json created\n",
      "creating test json\n"
     ]
    },
    {
     "name": "stderr",
     "output_type": "stream",
     "text": [
      "100%|██████████| 13068/13068 [00:48<00:00, 269.16it/s]\n"
     ]
    },
    {
     "name": "stdout",
     "output_type": "stream",
     "text": [
      "json created\n"
     ]
    },
    {
     "name": "stderr",
     "output_type": "stream",
     "text": [
      "100%|██████████| 33402/33402 [00:30<00:00, 1102.43it/s]\n",
      "100%|██████████| 13068/13068 [00:11<00:00, 1106.71it/s]\n"
     ]
    }
   ],
   "source": [
    "import h5py\n",
    "import json\n",
    "from PIL import Image\n",
    "import tqdm\n",
    "from tqdm import tqdm\n",
    "import os\n",
    "\n",
    "\n",
    "\n",
    "def get_bbox(mat_file, index):\n",
    "    bbox = {}\n",
    "    item = mat_file['digitStruct']['bbox'][index].item()\n",
    "    bbox['label'] = []\n",
    "    bbox['left'] = []\n",
    "    bbox['top'] = []\n",
    "    bbox['width'] = []\n",
    "    bbox['height'] = []\n",
    "    for key in ['label', 'left', 'top', 'width', 'height']:\n",
    "        attr = mat_file[item][key]\n",
    "        if attr.shape[0] == 1:\n",
    "            bbox[key] = [int(attr[0][0])]\n",
    "        else:\n",
    "            bbox[key] = [int(mat_file[attr[j].item()][0][0]) for j in range(attr.shape[0])]\n",
    "    return bbox\n",
    "\n",
    "\n",
    "def parse_item(name, obj, bbox):\n",
    "    \"\"\"\n",
    "    Fonction auxiliaire pour extraire les informations de bounding box d'un objet dans le fichier mat.\n",
    "    \"\"\"\n",
    "    if isinstance(obj, h5py.Reference):\n",
    "        obj = mat_file[obj]\n",
    "    if obj.shape[0] == 1:\n",
    "        bbox[name] = [int(obj[0])]\n",
    "    else:\n",
    "        bbox[name] = [int(obj[i][0]) for i in range(obj.shape[0])]\n",
    "\n",
    "def mat_to_json(mat_file, output_file):\n",
    "    \"\"\"\n",
    "    Fonction pour convertir un fichier mat en fichier json.\n",
    "    \"\"\"\n",
    "    data = []\n",
    "    for i in tqdm(range(len(mat_file['digitStruct']['bbox']))):\n",
    "        filename = ''.join([chr(c[0]) for c in mat_file[mat_file['digitStruct']['name'][i][0]]])\n",
    "        bbox = get_bbox(mat_file, i)\n",
    "        entry = {'filename': filename, 'bbox': bbox}\n",
    "        data.append(entry)\n",
    "    with open(output_file, 'w') as f:\n",
    "        json.dump(data, f)\n",
    "\n",
    "\n",
    "\n",
    "def create_json():\n",
    "    print('creating train json')\n",
    "    mat_file = h5py.File('./train/digitStruct.mat', 'r')\n",
    "    output_file = './train/digitStruct.json'\n",
    "    mat_to_json(mat_file, output_file)\n",
    "    mat_file.close()\n",
    "    print('json created')\n",
    "    print('creating test json')\n",
    "    mat_file2 = h5py.File('./test/digitStruct.mat', 'r')\n",
    "    output_file2 = './test/digitStruct.json'\n",
    "    mat_to_json(mat_file2, output_file2)\n",
    "    mat_file2.close()\n",
    "    print('json created')\n",
    "    \n",
    "def json_to_yolo( parent_dir):\n",
    "    # Chemin du fichier JSON créé précédemment\n",
    "    json_file =  parent_dir +  '/digitStruct.json'\n",
    "    # Dossier parent pour les images et les labels\n",
    "   \n",
    "\n",
    "    # Dossier pour les images\n",
    "    img_dir = os.path.join(parent_dir, 'images')\n",
    "    \n",
    "\n",
    "    # Dossier pour les labels\n",
    "    label_dir = os.path.join(parent_dir, 'labels')\n",
    "    if not os.path.exists(label_dir):\n",
    "        os.makedirs(label_dir)\n",
    "\n",
    "    # Fichier de chemin d'image et de label\n",
    "    txt_file = parent_dir +'.txt'\n",
    "    if os.path.exists(txt_file):\n",
    "        os.remove(txt_file)\n",
    "        \n",
    "\n",
    "    # Ouverture du fichier JSON\n",
    "    with open(json_file, 'r') as f:\n",
    "        data = json.load(f)\n",
    "\n",
    "    # Itération sur les entrées JSON pour créer des fichiers de label pour chaque image\n",
    "    with open(txt_file, 'w') as txt, tqdm(total=len(data)) as pbar:\n",
    "        for entry in data:\n",
    "            # Nom du fichier image\n",
    "            img_name = entry['filename']\n",
    "            bbox = entry['bbox']\n",
    "\n",
    "            # Chemin du fichier image\n",
    "            img_path = os.path.join(img_dir, img_name)\n",
    "\n",
    "            # Récupération de la largeur et de la hauteur de l'image\n",
    "            with Image.open(img_path) as img:\n",
    "                width, height = img.size\n",
    "\n",
    "            # Création du fichier de label pour l'image\n",
    "            label_name = os.path.splitext(img_name)[0] + '.txt'\n",
    "            label_path = os.path.join(label_dir, label_name)\n",
    "\n",
    "            # Ouverture du fichier de label\n",
    "            with open(label_path, 'w') as label:\n",
    "                \n",
    "                # Itération sur les objets dans l'image\n",
    "                for i in range(len(bbox['label'])):\n",
    "                   \n",
    "                    # Récupération des coordonnées de la boîte englobante\n",
    "                    l = bbox['label'][i]\n",
    "                    x_min = bbox['left'][i]\n",
    "                    y_min = bbox['top'][i]\n",
    "                    x_max = x_min + bbox['width'][i]\n",
    "                    y_max = y_min + bbox['height'][i]\n",
    "\n",
    "                    # Normalisation des coordonnées\n",
    "                    x_center = (x_min + x_max) / (2 * width)\n",
    "                    y_center = (y_min + y_max) / (2 * height)\n",
    "                    w = bbox['width'][i] / width\n",
    "                    h = bbox['width'][i] / height\n",
    "\n",
    "                    # Écriture des coordonnées normalisées dans le fichier de label\n",
    "                    \n",
    "                    label.write(f'{l} {x_center} {y_center} {w} {h}\\n')\n",
    "\n",
    "            # Écriture du chemin d'image et de label dans le fichier texte\n",
    "            txt.write(f'{img_path}\\n')\n",
    "            pbar.update(1)\n",
    "            \n",
    "def main():\n",
    "    create_json()\n",
    "    \n",
    "    json_to_yolo('train')\n",
    "    json_to_yolo('test')\n",
    "\n",
    "if __name__ == '__main__':\n",
    "    main()\n"
   ]
  },
  {
   "cell_type": "code",
   "execution_count": 67,
   "metadata": {},
   "outputs": [],
   "source": [
    "\n",
    "\n",
    "\n",
    "\n",
    "\n"
   ]
  },
  {
   "cell_type": "code",
   "execution_count": 71,
   "metadata": {},
   "outputs": [
    {
     "name": "stdout",
     "output_type": "stream",
     "text": [
      "test.txt\n"
     ]
    }
   ],
   "source": [
    "parent_dir = 'test'\n",
    "txt_file =  parent_dir +'.txt'\n",
    "open(txt_file, 'w').close()\n",
    "print(txt_file)"
   ]
  },
  {
   "cell_type": "code",
   "execution_count": 68,
   "metadata": {},
   "outputs": [
    {
     "name": "stderr",
     "output_type": "stream",
     "text": [
      "100%|██████████| 33402/33402 [00:22<00:00, 1502.59it/s]\n"
     ]
    }
   ],
   "source": [
    "\n"
   ]
  }
 ],
 "metadata": {
  "kernelspec": {
   "display_name": "test",
   "language": "python",
   "name": "python3"
  },
  "language_info": {
   "codemirror_mode": {
    "name": "ipython",
    "version": 3
   },
   "file_extension": ".py",
   "mimetype": "text/x-python",
   "name": "python",
   "nbconvert_exporter": "python",
   "pygments_lexer": "ipython3",
   "version": "3.11.2"
  },
  "orig_nbformat": 4
 },
 "nbformat": 4,
 "nbformat_minor": 2
}
